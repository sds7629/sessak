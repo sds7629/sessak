{
 "cells": [
  {
   "cell_type": "code",
   "execution_count": 46,
   "metadata": {},
   "outputs": [
    {
     "data": {
      "text/plain": [
       "'/Users/kwonyongdae/.wdm/drivers/chromedriver/mac64/121.0.6167.85/chromedriver-mac-x64/chromedriver'"
      ]
     },
     "execution_count": 46,
     "metadata": {},
     "output_type": "execute_result"
    }
   ],
   "source": [
    "from webdriver_manager.chrome import ChromeDriverManager\n",
    "import pymysql\n",
    "ChromeDriverManager().install()"
   ]
  },
  {
   "cell_type": "code",
   "execution_count": 47,
   "metadata": {},
   "outputs": [],
   "source": [
    "from selenium import webdriver\n",
    "browser = webdriver.Chrome()"
   ]
  },
  {
   "cell_type": "code",
   "execution_count": 48,
   "metadata": {},
   "outputs": [],
   "source": [
    "url = 'https://www.google.com'\n",
    "browser.get(url)"
   ]
  },
  {
   "cell_type": "code",
   "execution_count": 49,
   "metadata": {},
   "outputs": [
    {
     "data": {
      "text/plain": [
       "'대한민국'"
      ]
     },
     "execution_count": 49,
     "metadata": {},
     "output_type": "execute_result"
    }
   ],
   "source": [
    "from selenium.webdriver.common.by  import By\n",
    "browser.find_element(By.CLASS_NAME, 'uU7dJb').text"
   ]
  },
  {
   "cell_type": "code",
   "execution_count": 50,
   "metadata": {},
   "outputs": [],
   "source": [
    "url = 'https://www.yes24.com/Product/category/bestseller?CategoryNumber=001&sumgb=06'\n",
    "browser.get(url)"
   ]
  },
  {
   "cell_type": "code",
   "execution_count": 51,
   "metadata": {},
   "outputs": [
    {
     "name": "stdout",
     "output_type": "stream",
     "text": [
      "https://www.yes24.com/Product/Goods/122120495\n",
      "https://www.yes24.com/Product/Goods/123675187\n",
      "https://www.yes24.com/Product/Goods/117014613\n",
      "https://www.yes24.com/Product/Goods/124043812\n",
      "https://www.yes24.com/Product/Goods/124702623\n",
      "https://www.yes24.com/Product/Goods/124043802\n",
      "https://www.yes24.com/Product/Goods/122090360\n",
      "https://www.yes24.com/Product/Goods/123400303\n",
      "https://www.yes24.com/Product/Goods/122944685\n",
      "https://www.yes24.com/Product/Goods/118579613\n",
      "https://www.yes24.com/Product/Goods/124539805\n",
      "https://www.yes24.com/Product/Goods/124110821\n",
      "https://www.yes24.com/Product/Goods/124112599\n",
      "https://www.yes24.com/Product/Goods/122428190\n",
      "https://www.yes24.com/Product/Goods/118413014\n",
      "https://www.yes24.com/Product/Goods/119458052\n",
      "https://www.yes24.com/Product/Goods/119562091\n",
      "https://www.yes24.com/Product/Goods/124702605\n",
      "https://www.yes24.com/Product/Goods/124501342\n",
      "https://www.yes24.com/Product/Goods/124849202\n",
      "https://www.yes24.com/Product/Goods/119120517\n",
      "https://www.yes24.com/Product/Goods/124707232\n",
      "https://www.yes24.com/Product/Goods/79297023\n",
      "https://www.yes24.com/Product/Goods/124574394\n"
     ]
    }
   ],
   "source": [
    "# 1vㅔ이지의 링크 데이터 전부 수집\n",
    "\n",
    "### 한 개의 베스트 셀러 링크 수집\n",
    "browser.find_element(By.CLASS_NAME, 'gd_name').get_attribute('href')\n",
    "\n",
    "### 1페이지 전체의 링크 데이터\n",
    "# browser.find_element(By.CLASS_NAME, 'gd_name') # element : 요소\n",
    "datas = browser.find_elements(By.CLASS_NAME, 'gd_name') # elements : 리스트\n",
    "\n",
    "for i in datas :\n",
    "    print(i.get_attribute('href'))\n",
    "    \n",
    "\n",
    "\n",
    "# <a class=\"gd_name\" href=\"/Product/Goods/122120495\" onclick=\"wiseLogV2('BS', '001_005_001', ''); \">마흔에 읽는 쇼펜하우어</a>\n",
    "# <a class=\"gd_name\" href=\"/Product/Goods/123675187\" onclick=\"wiseLogV2('BS', '001_005_001', ''); \">나는 메트로폴리탄 미술관의 경비원입니다</a>"
   ]
  },
  {
   "cell_type": "code",
   "execution_count": 55,
   "metadata": {},
   "outputs": [
    {
     "name": "stdout",
     "output_type": "stream",
     "text": [
      "********** 현재 1 페이지 수집 중 입니다. **********\n",
      "********** 현재 2 페이지 수집 중 입니다. **********\n",
      "********** 현재 3 페이지 수집 중 입니다. **********\n",
      "['https://www.yes24.com/Product/Goods/122120495', 'https://www.yes24.com/Product/Goods/123675187', 'https://www.yes24.com/Product/Goods/117014613', 'https://www.yes24.com/Product/Goods/124043812', 'https://www.yes24.com/Product/Goods/124702623', 'https://www.yes24.com/Product/Goods/124043802', 'https://www.yes24.com/Product/Goods/122090360', 'https://www.yes24.com/Product/Goods/123400303', 'https://www.yes24.com/Product/Goods/122944685', 'https://www.yes24.com/Product/Goods/118579613', 'https://www.yes24.com/Product/Goods/124539805', 'https://www.yes24.com/Product/Goods/124110821', 'https://www.yes24.com/Product/Goods/124112599', 'https://www.yes24.com/Product/Goods/122428190', 'https://www.yes24.com/Product/Goods/118413014', 'https://www.yes24.com/Product/Goods/119458052', 'https://www.yes24.com/Product/Goods/119562091', 'https://www.yes24.com/Product/Goods/124702605', 'https://www.yes24.com/Product/Goods/124501342', 'https://www.yes24.com/Product/Goods/124849202', 'https://www.yes24.com/Product/Goods/119120517', 'https://www.yes24.com/Product/Goods/124707232', 'https://www.yes24.com/Product/Goods/79297023', 'https://www.yes24.com/Product/Goods/124574394', 'https://www.yes24.com/Product/Goods/124408170', 'https://www.yes24.com/Product/Goods/124397623', 'https://www.yes24.com/Product/Goods/123318244', 'https://www.yes24.com/Product/Goods/124472824', 'https://www.yes24.com/Product/Goods/122426425', 'https://www.yes24.com/Product/Goods/122880691', 'https://www.yes24.com/Product/Goods/123930891', 'https://www.yes24.com/Product/Goods/79208821', 'https://www.yes24.com/Product/Goods/122433629', 'https://www.yes24.com/Product/Goods/123930880', 'https://www.yes24.com/Product/Goods/124719615', 'https://www.yes24.com/Product/Goods/124347651', 'https://www.yes24.com/Product/Goods/96072143', 'https://www.yes24.com/Product/Goods/124702295', 'https://www.yes24.com/Product/Goods/118569079', 'https://www.yes24.com/Product/Goods/8759796', 'https://www.yes24.com/Product/Goods/124127709', 'https://www.yes24.com/Product/Goods/9349031', 'https://www.yes24.com/Product/Goods/124645703', 'https://www.yes24.com/Product/Goods/116467955', 'https://www.yes24.com/Product/Goods/67362730', 'https://www.yes24.com/Product/Goods/124644662', 'https://www.yes24.com/Product/Goods/90428162', 'https://www.yes24.com/Product/Goods/124717965', 'https://www.yes24.com/Product/Goods/124014108', 'https://www.yes24.com/Product/Goods/124106975', 'https://www.yes24.com/Product/Goods/114853233', 'https://www.yes24.com/Product/Goods/124807552', 'https://www.yes24.com/Product/Goods/123676271', 'https://www.yes24.com/Product/Goods/124852714', 'https://www.yes24.com/Product/Goods/124184330', 'https://www.yes24.com/Product/Goods/124733569', 'https://www.yes24.com/Product/Goods/124027690', 'https://www.yes24.com/Product/Goods/124157362', 'https://www.yes24.com/Product/Goods/124213903', 'https://www.yes24.com/Product/Goods/121911671', 'https://www.yes24.com/Product/Goods/124716172', 'https://www.yes24.com/Product/Goods/124339743', 'https://www.yes24.com/Product/Goods/91868954', 'https://www.yes24.com/Product/Goods/124219505', 'https://www.yes24.com/Product/Goods/123623040', 'https://www.yes24.com/Product/Goods/118578901', 'https://www.yes24.com/Product/Goods/120761010', 'https://www.yes24.com/Product/Goods/124315515', 'https://www.yes24.com/Product/Goods/123623043', 'https://www.yes24.com/Product/Goods/124106985', 'https://www.yes24.com/Product/Goods/124301348', 'https://www.yes24.com/Product/Goods/120785860']\n"
     ]
    }
   ],
   "source": [
    "# 3페이지까지의 링크 데이터 전부 수집\n",
    "# https://www.yes24.com/Product/Category/BestSeller?categoryNumber=001&pageNumber=1&pageSize=24\n",
    "# https://www.yes24.com/Product/Category/BestSeller?categoryNumber=001&pageNumber=2&pageSize=24\n",
    "# https://www.yes24.com/Product/Category/BestSeller?categoryNumber=001&pageNumber=3&pageSize=24\n",
    "import time\n",
    "\n",
    "link_list = []\n",
    "for i in range(1, 4):\n",
    "    print(\"*\" * 10, f\"현재 {i} 페이지 수집 중 입니다.\", \"*\" * 10)\n",
    "    url = f\"https://www.yes24.com/Product/Category/BestSeller?categoryNumber=001&pageNumber={i}&pageSize=24\"\n",
    "    browser.get(url)\n",
    "\n",
    "    browser.find_element(By.CLASS_NAME, 'gd_name').get_attribute('href')\n",
    "    ### 1페이지 전체의 링크 데이터\n",
    "    # browser.find_element(By.CLASS_NAME, 'gd_name') # element : 요소\n",
    "    datas =  browser.find_elements(By.CLASS_NAME, 'gd_name') # element : 리스트\n",
    "\n",
    "    for i in datas:\n",
    "        link = i.get_attribute('href')\n",
    "        link_list.append(link)\n",
    "\n",
    "    time.sleep(3)\n",
    "print(link_list)"
   ]
  },
  {
   "cell_type": "code",
   "execution_count": 56,
   "metadata": {},
   "outputs": [
    {
     "data": {
      "text/plain": [
       "72"
      ]
     },
     "execution_count": 56,
     "metadata": {},
     "output_type": "execute_result"
    }
   ],
   "source": [
    "len(link_list)"
   ]
  },
  {
   "cell_type": "code",
   "execution_count": 70,
   "metadata": {},
   "outputs": [
    {
     "data": {
      "text/plain": [
       "'베스트 국내도서 1위'"
      ]
     },
     "execution_count": 70,
     "metadata": {},
     "output_type": "execute_result"
    }
   ],
   "source": [
    "# for link in link_list :\n",
    "#   # 상세 페이지로 이동\n",
    "#   browser.get(link)\n",
    "\n",
    "browser.get(link_list[0])\n",
    "\n",
    "title = browser.find_element(By.CLASS_NAME, 'gd_name').text\n",
    "auth = browser.find_element(By.CLASS_NAME, 'gd_auth').text\n",
    "publisher = browser.find_element(By.CLASS_NAME, 'gd_pub').text\n",
    "publishing = browser.find_element(By.CLASS_NAME, 'gd_date').text\n",
    "rating = browser.find_element(By.CLASS_NAME, 'yes_b').text\n",
    "review = browser.find_element(By.CLASS_NAME, 'txC_blue').text\n",
    "sales = browser.find_element(By.CLASS_NAME, 'gd_sellNum').text.split()[2]\n",
    "price = browser.find_element(By.CLASS_NAME, 'yes_m').text[:-1]\n",
    "ranking = browser.find_element(By.CLASS_NAME, 'gd_best').text.split(\" | \")[0]\n",
    "ranking_weeks = browser.find_element(By.CLASS_NAME, 'gd_best').text.split(\" | \")[1]\n"
   ]
  },
  {
   "cell_type": "code",
   "execution_count": 71,
   "metadata": {},
   "outputs": [
    {
     "ename": "ModuleNotFoundError",
     "evalue": "No module named 'pymysql'",
     "output_type": "error",
     "traceback": [
      "\u001b[0;31m---------------------------------------------------------------------------\u001b[0m",
      "\u001b[0;31mModuleNotFoundError\u001b[0m                       Traceback (most recent call last)",
      "Cell \u001b[0;32mIn[71], line 2\u001b[0m\n\u001b[1;32m      1\u001b[0m \u001b[38;5;66;03m# 데이터 베이스 연동 후 -> 수집한 데이터를 DB에 저장 (csv)\u001b[39;00m\n\u001b[0;32m----> 2\u001b[0m \u001b[38;5;28;01mimport\u001b[39;00m \u001b[38;5;21;01mpymysql\u001b[39;00m \u001b[38;5;66;03m# pip install pymysql\u001b[39;00m\n\u001b[1;32m      4\u001b[0m conn \u001b[38;5;241m=\u001b[39m pymysql\u001b[38;5;241m.\u001b[39mconnect(\n\u001b[1;32m      5\u001b[0m     host \u001b[38;5;241m=\u001b[39m \u001b[38;5;124m'\u001b[39m\u001b[38;5;124mlocalhost\u001b[39m\u001b[38;5;124m'\u001b[39m,\n\u001b[1;32m      6\u001b[0m     user \u001b[38;5;241m=\u001b[39m \u001b[38;5;124m'\u001b[39m\u001b[38;5;124mroot\u001b[39m\u001b[38;5;124m'\u001b[39m,\n\u001b[0;32m   (...)\u001b[0m\n\u001b[1;32m     10\u001b[0m     cursorclass \u001b[38;5;241m=\u001b[39m pymysql\u001b[38;5;241m.\u001b[39mcursor\u001b[38;5;241m.\u001b[39mDictCursor\n\u001b[1;32m     11\u001b[0m )\n\u001b[1;32m     13\u001b[0m \u001b[38;5;28;01mwith\u001b[39;00m conn\u001b[38;5;241m.\u001b[39mcursor() \u001b[38;5;28;01mas\u001b[39;00m cur :\n",
      "\u001b[0;31mModuleNotFoundError\u001b[0m: No module named 'pymysql'"
     ]
    }
   ],
   "source": [
    "# 데이터 베이스 연동 후 -> 수집한 데이터를 DB에 저장 (csv)\n",
    "import pymysql # pip install pymysql\n",
    "\n",
    "conn = pymysql.connect(\n",
    "    host = 'localhost',\n",
    "    user = 'root',\n",
    "    password = '2399',\n",
    "    db = 'yes24',\n",
    "    charset = 'utf8mb4',\n",
    "    cursorclass = pymysql.cursor.DictCursor\n",
    ")\n",
    "\n",
    "with conn.cursor() as cur :\n",
    "    for link in link_list:\n",
    "        browser.get(link)\n",
    "\n",
    "        # title = browser.find_element(By.CLASS_NAME, 'gd_name').text\n",
    "        # auth = browser.find_element(By.CLASS_NAME, 'gd_auth').text\n",
    "        # publisher = browser.find_element(By.CLASS_NAME, 'gd_pub').text\n",
    "        # publishing = browser.find_element(By.CLASS_NAME, 'gd_date').text\n",
    "        # rating = browser.find_element(By.CLASS_NAME, 'yes_b').text\n",
    "        # review = browser.find_element(By.CLASS_NAME, 'txC_blue').text\n",
    "        # sales = browser.find_element(By.CLASS_NAME, 'gd_sellNum').text.split()[2]\n",
    "        # price = browser.find_element(By.CLASS_NAME, 'yes_m').text[:-1]\n",
    "        ranking = browser.find_element(By.CLASS_NAME, 'gd_best').text.split(\" | \")[0]\n",
    "        ranking_weeks = browser.find_element(By.CLASS_NAME, 'gd_best').text.split(\" | \")[1]\n",
    "\n",
    "\n",
    "        sql = \"\"\"INSERT INTO books(\n",
    "            title, author, publisher, publishing, rating, review, sales, price, ranking, ranking_weeks\n",
    "            )\n",
    "            VALUES(\n",
    "            %s, %s, %s, %s, %s, %s, %s, %s, %s, %s,\n",
    "            )\n",
    "            \"\"\"\n",
    "\n",
    "    cur.execute(sql, (title, author, publisher, publishing, rating, review, sales, price, ranking, ranking_weeks))"
   ]
  },
  {
   "cell_type": "code",
   "execution_count": null,
   "metadata": {},
   "outputs": [],
   "source": [
    "# 상세 페이지 이동 후 데이터 크롤링\n",
    "\n",
    "title = browser.find_element(By.CLASS_NAME, 'gd_name').text\n",
    "auth = browser.find_element(By.CLASS_NAME, 'gd_auth').text\n",
    "publisher = browser.find_element(By.CLASS_NAME, 'gd_pub').text\n",
    "publishing = browser.find_element(By.CLASS_NAME, 'gd_date').text\n",
    "rating = browser.find_element(By.CLASS_NAME, 'yes_b').text\n",
    "review = browser.find_element(By.CLASS_NAME, 'txC_blue').text\n",
    "sales = browser.find_element(By.CLASS_NAME, 'gd_sellNum').text.split()[2]\n",
    "price = browser.find_element(By.CLASS_NAME, 'yes_m').text[:-1]\n",
    "ranking = browser.find_element(By.CLASS_NAME, 'gd_best').text.split(\" | \")[0]\n",
    "ranking_weeks = browser.find_element(By.CLASS_NAME, 'gd_best').text.split(\" | \")[1]\n"
   ]
  },
  {
   "cell_type": "code",
   "execution_count": null,
   "metadata": {},
   "outputs": [],
   "source": []
  }
 ],
 "metadata": {
  "kernelspec": {
   "display_name": ".venv",
   "language": "python",
   "name": "python3"
  },
  "language_info": {
   "codemirror_mode": {
    "name": "ipython",
    "version": 3
   },
   "file_extension": ".py",
   "mimetype": "text/x-python",
   "name": "python",
   "nbconvert_exporter": "python",
   "pygments_lexer": "ipython3",
   "version": "3.12.1"
  }
 },
 "nbformat": 4,
 "nbformat_minor": 2
}
