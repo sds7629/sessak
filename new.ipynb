{
 "cells": [
  {
   "cell_type": "code",
   "execution_count": 1,
   "metadata": {},
   "outputs": [
    {
     "data": {
      "text/plain": [
       "4000"
      ]
     },
     "execution_count": 1,
     "metadata": {},
     "output_type": "execute_result"
    }
   ],
   "source": [
    "# 거스름 돈\n",
    "def question(n,w):\n",
    "    result = w - 3000*n\n",
    "    return result \n",
    "\n",
    "\n",
    "question(1,7000)"
   ]
  },
  {
   "cell_type": "code",
   "execution_count": 1,
   "metadata": {
    "ExecuteTime": {
     "end_time": "2024-02-27T08:02:37.754023Z",
     "start_time": "2024-02-27T08:02:37.748912Z"
    }
   },
   "outputs": [
    {
     "name": "stdout",
     "output_type": "stream",
     "text": [
      "5\n",
      "14\n",
      "6\n",
      "12\n",
      "7\n"
     ]
    }
   ],
   "source": [
    "# 몫 구하기\n",
    "def question2(candies, friends):\n",
    "    result = candies // friends\n",
    "    return result\n",
    "\n",
    "\n",
    "def Test(result):\n",
    "    for i in range(len(result)):\n",
    "        result2 = question2(*result[i])\n",
    "        print(result2)\n",
    "\n",
    "Test([[32,6], [56,4], [34,5], [73,6], [23,3]])"
   ]
  },
  {
   "cell_type": "code",
   "execution_count": 6,
   "metadata": {},
   "outputs": [
    {
     "name": "stdout",
     "output_type": "stream",
     "text": [
      "너 내 동료가 돼라!\n",
      "도도도독\n"
     ]
    }
   ],
   "source": [
    "# 나이 비교\n",
    "def question3(age1, age2):\n",
    "    if age1 == age2:\n",
    "        return \"너 내 동료가 돼라!\"\n",
    "    else:\n",
    "        return \"도도도독\"\n",
    "    \n",
    "print(question3(13, 13))\n",
    "print(question3(14,17))"
   ]
  },
  {
   "cell_type": "code",
   "execution_count": 10,
   "metadata": {},
   "outputs": [
    {
     "name": "stdout",
     "output_type": "stream",
     "text": [
      "[0, 2, 4, 6, 8, 10]\n",
      "[0, 2]\n"
     ]
    }
   ],
   "source": [
    "def question4(n: int) -> list:\n",
    "    new = [i for i in range(n+1) if i % 2 == 0]\n",
    "    return new\n",
    "\n",
    "print(question4(10))\n",
    "print(question4(3))"
   ]
  },
  {
   "cell_type": "code",
   "execution_count": null,
   "metadata": {},
   "outputs": [],
   "source": [
    "def your_score(score: int) -> str:\n",
    "    if score >= 90:\n",
    "        return \"A학점\"\n",
    "    elif score >= 80 and score <= 89:\n",
    "        return \"B학점\"\n",
    "    elif score >=70 and score <= 79:\n",
    "        return \"C학점\"\n",
    "    elif score >=60 and score <= 69:\n",
    "        return \"D학점\"\n",
    "    else:\n",
    "        return \"F학점\"\n",
    "    \n",
    "score = map(int, input(\"당신의 점수는?: \"))\n",
    "your_score(score)"
   ]
  },
  {
   "cell_type": "code",
   "execution_count": 6,
   "metadata": {},
   "outputs": [
    {
     "data": {
      "text/plain": [
       "2"
      ]
     },
     "execution_count": 6,
     "metadata": {},
     "output_type": "execute_result"
    }
   ],
   "source": [
    "def solution(a:str, n:str) -> int:\n",
    "    result = 0\n",
    "    for i in a:\n",
    "        if i == n:\n",
    "            result += 1\n",
    "    return result\n",
    "\n",
    "\n",
    "solution(\"happy\", \"p\")"
   ]
  },
  {
   "cell_type": "code",
   "execution_count": 92,
   "metadata": {},
   "outputs": [
    {
     "name": "stdout",
     "output_type": "stream",
     "text": [
      "0회차 행운의 숫자: 3낙첨\n",
      "1회차 행운의 숫자: 10낙첨\n",
      "2회차 행운의 숫자: 4낙첨\n",
      "3회차 행운의 숫자: 2낙첨\n",
      "4회차 행운의 숫자: 7낙첨\n",
      "5회차 행운의 숫자: 1낙첨\n",
      "6회차 행운의 숫자: 10낙첨\n",
      "7회차 행운의 숫자: 6낙첨\n",
      "8회차 행운의 숫자: 4낙첨\n",
      "9회차 행운의 숫자: 3낙첨\n",
      "최종 금액20000원\n"
     ]
    }
   ],
   "source": [
    "import random\n",
    "\n",
    "def solution(n:int , m:int) -> None:\n",
    "    result = 0\n",
    "    for _ in range(10):\n",
    "        random_num = random.randint(1, 10)\n",
    "\n",
    "        if random_num == n:\n",
    "            result += m\n",
    "        \n",
    "        print(f\"{_}회차 행운의 숫자: {random_num}낙첨\")\n",
    "    print(f\"최종 금액{result}원\")\n",
    "    \n",
    "solution(4, 10000)"
   ]
  },
  {
   "cell_type": "code",
   "execution_count": 22,
   "metadata": {},
   "outputs": [
    {
     "data": {
      "text/plain": [
       "3"
      ]
     },
     "execution_count": 22,
     "metadata": {},
     "output_type": "execute_result"
    }
   ],
   "source": [
    "def devide(n:int) -> int:\n",
    "    result = 1\n",
    "    while True:\n",
    "        head = n % result \n",
    "        if head != 1:\n",
    "            result += 1\n",
    "            continue\n",
    "        else:\n",
    "            break\n",
    "    return result\n",
    "\n",
    "devide(10)"
   ]
  },
  {
   "cell_type": "code",
   "execution_count": 1,
   "metadata": {},
   "outputs": [
    {
     "name": "stdout",
     "output_type": "stream",
     "text": [
      "aman,aplan,acanal:panama\n"
     ]
    }
   ],
   "source": [
    "def restr(text: str) -> bool:\n",
    "    text = text.lower().split()\n",
    "    new_text = \"\".join(text)\n",
    "    print(new_text)\n",
    "    \n",
    "restr('A man, a plan, a canal: Panama')\n",
    "# ['A man, a plan, a canal: Panama'],\n",
    "# ['race a car'],\n",
    "# ['Was it a car or a cat I saw?'],\n",
    "# [\"No 'x' in Nixon\"],\n",
    "# ['No lemon, no melon'],\n",
    "# ['A Santa at NASA'],\n",
    "# ['Palindrome example']\n",
    "# [true, false, true, true, true, true, false]"
   ]
  },
  {
   "cell_type": "code",
   "execution_count": 1,
   "metadata": {},
   "outputs": [
    {
     "name": "stdout",
     "output_type": "stream",
     "text": [
      "kim ho\n",
      "{3, 4, 5, 6, 8, 9}\n"
     ]
    }
   ],
   "source": [
    "# import random\n",
    "\n",
    "# class RandomSolve:\n",
    "#     def __init__(self, myname, yourname):\n",
    "#         self.myname = myname\n",
    "#         self.yourname = yourname\n",
    "#         self.nums = set()\n",
    "\n",
    "#     @staticmethod\n",
    "#     def __random():\n",
    "#         return random.randint(0,9)\n",
    "    \n",
    "#     @classmethod\n",
    "#     def newnum(cls, dic):\n",
    "#         return cls(dic[\"myname\"], dic[\"yourname\"])\n",
    "\n",
    "#     def get_six_num(self):\n",
    "#         while len(self.nums) < 6:\n",
    "#             self.nums.add(self.__random())\n",
    "#         return self.nums\n",
    "    \n",
    "# res = RandomSolve.newnum({\"myname\": \"kim\", \"yourname\": \"ho\"})\n",
    "# print(res.myname, res.yourname)\n",
    "# print(res.get_six_num())\n",
    "\n"
   ]
  },
  {
   "cell_type": "code",
   "execution_count": 2,
   "metadata": {
    "ExecuteTime": {
     "end_time": "2024-02-27T08:03:54.785061Z",
     "start_time": "2024-02-27T08:03:54.779375Z"
    }
   },
   "outputs": [
    {
     "name": "stdout",
     "output_type": "stream",
     "text": [
      "[100, 2, 3, 100, 2, 3, 100, 2, 3]\n"
     ]
    }
   ],
   "source": [
    "#36.8 연습문제\n",
    "class Advanced(list):\n",
    "    \n",
    "    def replace(self, old, new):\n",
    "        while old in self:\n",
    "            self[self.index(old)] = new\n",
    "            \n",
    "x = Advanced([1, 2, 3, 1, 2, 3, 1, 2, 3])\n",
    "x.replace(1, 100)\n",
    "print(x)\n",
    "\n",
    "\n",
    "# 여기서 while old in self <= 어떻게 self만 가능한지 궁금해 하신분"
   ]
  },
  {
   "cell_type": "code",
   "execution_count": null,
   "metadata": {},
   "outputs": [],
   "source": [
    "# 이런느낌\n",
    "class list:\n",
    "    self = []"
   ]
  },
  {
   "cell_type": "code",
   "execution_count": 92,
   "metadata": {},
   "outputs": [
    {
     "name": "stdout",
     "output_type": "stream",
     "text": [
      "1\n",
      "3\n"
     ]
    }
   ],
   "source": [
    "def sol():\n",
    "    num = 1\n",
    "    while True:\n",
    "        yield num\n",
    "        num = num + 2\n",
    "\n",
    "new = sol()\n",
    "print(new.__next__())\n",
    "print(new.__next__())\n"
   ]
  },
  {
   "cell_type": "code",
   "execution_count": 9,
   "metadata": {},
   "outputs": [
    {
     "name": "stdout",
     "output_type": "stream",
     "text": [
      "값은 1입니다\n",
      "값은 2입니다\n",
      "값은 3입니다\n",
      "값은 4입니다\n",
      "값은 5입니다\n"
     ]
    }
   ],
   "source": [
    "def sol_send():\n",
    "    while True:\n",
    "        get_value = yield\n",
    "        print(f\"값은 {get_value}입니다\")\n",
    "        yield get_value\n",
    "        \n",
    "gen = sol_send()\n",
    "values = [1,2,3,4,5]\n",
    "for value in values:\n",
    "    gen.__next__()\n",
    "    gen.send(value)"
   ]
  },
  {
   "cell_type": "code",
   "execution_count": 5,
   "metadata": {
    "ExecuteTime": {
     "end_time": "2024-02-27T08:15:11.190752Z",
     "start_time": "2024-02-27T08:15:11.184546Z"
    }
   },
   "outputs": [
    {
     "name": "stdout",
     "output_type": "stream",
     "text": [
      "['__annotations__', '__builtins__', '__call__', '__class__', '__closure__', '__code__', '__defaults__', '__delattr__', '__dict__', '__dir__', '__doc__', '__eq__', '__format__', '__ge__', '__get__', '__getattribute__', '__getstate__', '__globals__', '__gt__', '__hash__', '__init__', '__init_subclass__', '__kwdefaults__', '__le__', '__lt__', '__module__', '__name__', '__ne__', '__new__', '__qualname__', '__reduce__', '__reduce_ex__', '__repr__', '__setattr__', '__sizeof__', '__str__', '__subclasshook__']\n",
      "next1:  10\n",
      "next2:  110\n",
      "next3:  887\n"
     ]
    }
   ],
   "source": [
    "def coroutine2(x):\n",
    "    # print(f'>> 시작 값: {x}')\n",
    "    y = yield x\n",
    "    # print(f'>> y값: {y}')\n",
    "    z = yield x + y\n",
    "    # print(f'>> z값: {z}')\n",
    "    yield z + x + y\n",
    "\n",
    "cr2 = coroutine2(10)\n",
    "new = cr2.__next__()\n",
    "print('next1: ', new)\n",
    "\n",
    "send_y = cr2.send(100)\n",
    "print('next2: ', send_y)\n",
    "\n",
    "send_z = cr2.send(777)\n",
    "print('next3: ', send_z)"
   ]
  },
  {
   "cell_type": "code",
   "execution_count": 3,
   "metadata": {},
   "outputs": [
    {
     "name": "stdout",
     "output_type": "stream",
     "text": [
      "cr =<generator object coroutine_test at 0x10712c380>\n",
      "send 1\n",
      "text =  morning\n",
      "good morning\n",
      "send 2\n",
      "text =  afternoon\n",
      "good morning afternoon\n",
      "send 3\n",
      "text =  evening\n",
      "good morning afternoon evening\n"
     ]
    }
   ],
   "source": [
    "import time\n",
    "\n",
    "def coroutine_test():\n",
    "    greeting = \"good\"\n",
    "    while True:\n",
    "        text = (yield greeting)\n",
    "        print(\"text = \", end= \" \"), print(text)\n",
    "        greeting += f' {text}'\n",
    "\n",
    "if __name__ == \"__main__\":\n",
    "    cr = coroutine_test()\n",
    "    print('cr = ', end= ''), print(cr)\n",
    "\n",
    "\n",
    "    cr.__next__()\n",
    "    time.sleep(2)\n",
    "\n",
    "    print(\"send 1\")\n",
    "    print(cr.send('morning'))\n",
    "    time.sleep(2)\n",
    "\n",
    "    print('send 2')\n",
    "    print(cr.send('afternoon'))\n",
    "    time.sleep(2)\n",
    "\n",
    "    print('send 3')\n",
    "    print(cr.send('evening'))\n",
    "    time.sleep(2)"
   ]
  },
  {
   "cell_type": "code",
   "execution_count": 51,
   "metadata": {},
   "outputs": [
    {
     "name": "stdout",
     "output_type": "stream",
     "text": [
      "1\n",
      "4\n",
      "7\n"
     ]
    }
   ],
   "source": [
    "def corou():\n",
    "    total = 0\n",
    "    while True:\n",
    "        x = yield total\n",
    "        total += x\n",
    "\n",
    "co = corou()\n",
    "co.__next__()\n",
    "\n",
    "print(co.send(1))\n",
    "print(co.send(3))\n",
    "print(co.send(3))"
   ]
  },
  {
   "cell_type": "code",
   "execution_count": 123,
   "metadata": {},
   "outputs": [
    {
     "name": "stdout",
     "output_type": "stream",
     "text": [
      "<__main__.Sol object at 0x107309eb0>\n"
     ]
    }
   ],
   "source": [
    "class Sol:\n",
    "    pass\n",
    "\n",
    "sol = Sol()\n",
    "\n",
    "print(sol)"
   ]
  },
  {
   "cell_type": "code",
   "execution_count": 149,
   "metadata": {},
   "outputs": [
    {
     "name": "stdout",
     "output_type": "stream",
     "text": [
      "division by zero\n"
     ]
    }
   ],
   "source": [
    "def div(x:int) -> int:\n",
    "    return 10 / x\n",
    "\n",
    "try:\n",
    "    div(0)\n",
    "except ZeroDivisionError as e: # 여기로 이동\n",
    "    print(e)\n"
   ]
  },
  {
   "cell_type": "code",
   "execution_count": 4,
   "metadata": {
    "ExecuteTime": {
     "end_time": "2024-02-27T08:09:11.380907Z",
     "start_time": "2024-02-27T08:09:11.378684Z"
    }
   },
   "outputs": [
    {
     "name": "stdout",
     "output_type": "stream",
     "text": [
      "{'new': 'nono', 'new2': 'hello'}\n"
     ]
    }
   ],
   "source": [
    "new_dict = {\n",
    "    \"new\": 'hi',\n",
    "    'new2': 'hello'\n",
    "}\n",
    "new_dict.update(new = 'nono')\n",
    "print(new_dict)"
   ]
  },
  {
   "cell_type": "code",
   "execution_count": 27,
   "metadata": {},
   "outputs": [
    {
     "name": "stdout",
     "output_type": "stream",
     "text": [
      "<class 'generator'>\n"
     ]
    }
   ],
   "source": [
    "list_comp = (i for i in range(10) if i % 2 ==0) \n",
    "print(type(list_comp))"
   ]
  },
  {
   "cell_type": "code",
   "execution_count": 75,
   "metadata": {},
   "outputs": [
    {
     "name": "stdout",
     "output_type": "stream",
     "text": [
      ">> 시작 값: 10\n",
      "next1:  10\n",
      ">> Y 값: 100\n",
      "next2:  110\n",
      ">> Z 값: 777\n",
      "next3:  887\n"
     ]
    }
   ],
   "source": [
    "def coroutine2(x:int):\n",
    "    print(f'>> 시작 값: {x}')\n",
    "    y = yield x # 10\n",
    "    print(f'>> Y 값: {y}')\n",
    "    z = yield x + y\n",
    "    print(f'>> Z 값: {z}')\n",
    "    yield z + x + y\n",
    "\n",
    "\n",
    "cr2 = coroutine2(10)\n",
    "new = cr2.__next__()  # 10\n",
    "print('next1: ', new)\n",
    "\n",
    "send_y = cr2.send(100) # y값이 결정된다 100을 \n",
    "print('next2: ', send_y)\n",
    "\n",
    "send_z = cr2.send(777) # 887\n",
    "print('next3: ', send_z)"
   ]
  },
  {
   "cell_type": "code",
   "execution_count": null,
   "metadata": {},
   "outputs": [],
   "source": []
  }
 ],
 "metadata": {
  "kernelspec": {
   "display_name": "Python 3",
   "language": "python",
   "name": "python3"
  },
  "language_info": {
   "codemirror_mode": {
    "name": "ipython",
    "version": 3
   },
   "file_extension": ".py",
   "mimetype": "text/x-python",
   "name": "python",
   "nbconvert_exporter": "python",
   "pygments_lexer": "ipython3",
   "version": "3.12.0"
  }
 },
 "nbformat": 4,
 "nbformat_minor": 2
}
