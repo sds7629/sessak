{
 "cells": [
  {
   "cell_type": "code",
   "execution_count": 9,
   "metadata": {},
   "outputs": [
    {
     "name": "stdout",
     "output_type": "stream",
     "text": [
      "User(name='jinwoo', flavor='vanila', in_stock=True, sizes=[])\n"
     ]
    }
   ],
   "source": [
    "import dataclasses\n",
    "from dataclasses import field\n",
    "\n",
    "from bs4 import BeautifulSoup\n",
    "\n",
    "\n",
    "@dataclasses.dataclass(kw_only=True)\n",
    "class User:\n",
    "    name: str\n",
    "    flavor: str\n",
    "    in_stock: bool = True\n",
    "    sizes: list = field(default_factory=list)\n",
    "    \n",
    "    def your_name(self) -> str:\n",
    "        return self.name\n",
    "\n",
    "user = User(name='jinwoo',flavor='vanila')\n",
    "print(user)"
   ]
  },
  {
   "cell_type": "code",
   "execution_count": 2,
   "metadata": {
    "ExecuteTime": {
     "end_time": "2024-02-28T07:24:25.708782Z",
     "start_time": "2024-02-28T07:24:25.704497Z"
    }
   },
   "outputs": [],
   "source": []
  },
  {
   "cell_type": "code",
   "outputs": [],
   "source": [],
   "metadata": {
    "collapsed": false
   }
  }
 ],
 "metadata": {
  "kernelspec": {
   "display_name": ".venv",
   "language": "python",
   "name": "python3"
  },
  "language_info": {
   "codemirror_mode": {
    "name": "ipython",
    "version": 3
   },
   "file_extension": ".py",
   "mimetype": "text/x-python",
   "name": "python",
   "nbconvert_exporter": "python",
   "pygments_lexer": "ipython3",
   "version": "3.12.0"
  }
 },
 "nbformat": 4,
 "nbformat_minor": 2
}
