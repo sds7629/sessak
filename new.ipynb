{
 "cells": [
  {
   "cell_type": "code",
   "execution_count": 1,
   "metadata": {},
   "outputs": [
    {
     "data": {
      "text/plain": [
       "4000"
      ]
     },
     "execution_count": 1,
     "metadata": {},
     "output_type": "execute_result"
    }
   ],
   "source": [
    "def question(n,w):\n",
    "    result = w - 3000*n\n",
    "    return result \n",
    "\n",
    "question(1,7000)"
   ]
  },
  {
   "cell_type": "code",
   "execution_count": 3,
   "metadata": {},
   "outputs": [
    {
     "name": "stdout",
     "output_type": "stream",
     "text": [
      "5\n",
      "14\n",
      "6\n",
      "12\n",
      "7\n"
     ]
    }
   ],
   "source": [
    "def question2(candies, friends):\n",
    "    result = candies // friends\n",
    "    return result\n",
    "\n",
    "\n",
    "def Test(result):\n",
    "    for i in range(len(result)):\n",
    "        result2 = question2(*result[i])\n",
    "        print(result2)\n",
    "\n",
    "Test([[32,6], [56,4], [34,5], [73,6], [23,3]])"
   ]
  },
  {
   "cell_type": "code",
   "execution_count": 6,
   "metadata": {},
   "outputs": [
    {
     "name": "stdout",
     "output_type": "stream",
     "text": [
      "너 내 동료가 돼라!\n",
      "도도도독\n"
     ]
    }
   ],
   "source": [
    "def question3(age1, age2):\n",
    "    if age1 == age2:\n",
    "        return \"너 내 동료가 돼라!\"\n",
    "    else:\n",
    "        return \"도도도독\"\n",
    "    \n",
    "print(question3(13, 13))\n",
    "print(question3(14,17))"
   ]
  },
  {
   "cell_type": "code",
   "execution_count": 10,
   "metadata": {},
   "outputs": [
    {
     "name": "stdout",
     "output_type": "stream",
     "text": [
      "[0, 2, 4, 6, 8, 10]\n",
      "[0, 2]\n"
     ]
    }
   ],
   "source": [
    "def question4(n: int) -> list:\n",
    "    new = [i for i in range(n+1) if i % 2 == 0]\n",
    "    return new\n",
    "\n",
    "print(question4(10))\n",
    "print(question4(3))\n"
   ]
  },
  {
   "cell_type": "code",
   "execution_count": 6,
   "metadata": {},
   "outputs": [
    {
     "data": {
      "text/plain": [
       "2"
      ]
     },
     "execution_count": 6,
     "metadata": {},
     "output_type": "execute_result"
    }
   ],
   "source": [
    "def solution(a:str, n:str) -> int:\n",
    "    result = 0\n",
    "    for i in a:\n",
    "        if i == n:\n",
    "            result += 1\n",
    "    return result\n",
    "\n",
    "\n",
    "solution(\"happy\", \"p\")"
   ]
  },
  {
   "cell_type": "code",
   "execution_count": 18,
   "metadata": {},
   "outputs": [
    {
     "name": "stdout",
     "output_type": "stream",
     "text": [
      "0회차 행운의 숫자: 3낙첨\n",
      "1회차 행운의 숫자: 10낙첨\n",
      "2회차 행운의 숫자: 9낙첨\n",
      "3회차 행운의 숫자: 4낙첨\n",
      "4회차 행운의 숫자: 5낙첨\n",
      "5회차 행운의 숫자: 4낙첨\n",
      "6회차 행운의 숫자: 1낙첨\n",
      "7회차 행운의 숫자: 5낙첨\n",
      "8회차 행운의 숫자: 5낙첨\n",
      "9회차 행운의 숫자: 4낙첨\n",
      "최종 금액30000원\n"
     ]
    }
   ],
   "source": [
    "import random\n",
    "\n",
    "def solution(n:int , m:int) -> int:\n",
    "    result = 0\n",
    "    for _ in range(10):\n",
    "        random_num = random.randint(1, 10)\n",
    "        if random_num == n:\n",
    "            result += m\n",
    "        print(f\"{_}회차 행운의 숫자: {random_num}낙첨\")\n",
    "    print(f\"최종 금액{result}원\")\n",
    "solution(4, 10000)"
   ]
  },
  {
   "cell_type": "code",
   "execution_count": 22,
   "metadata": {},
   "outputs": [
    {
     "data": {
      "text/plain": [
       "3"
      ]
     },
     "execution_count": 22,
     "metadata": {},
     "output_type": "execute_result"
    }
   ],
   "source": [
    "def devide(n:int) -> int:\n",
    "    result = 1\n",
    "    while True:\n",
    "        head = n % result \n",
    "        if head != 1:\n",
    "            result += 1\n",
    "            continue\n",
    "        else:\n",
    "            break\n",
    "    return result\n",
    "\n",
    "devide(10)"
   ]
  },
  {
   "cell_type": "code",
   "execution_count": 1,
   "metadata": {},
   "outputs": [
    {
     "name": "stdout",
     "output_type": "stream",
     "text": [
      "aman,aplan,acanal:panama\n"
     ]
    }
   ],
   "source": [
    "def restr(text: str) -> bool:\n",
    "    text = text.lower().split()\n",
    "    new_text = \"\".join(text)\n",
    "    print(new_text)\n",
    "    \n",
    "restr('A man, a plan, a canal: Panama')\n",
    "# ['A man, a plan, a canal: Panama'],\n",
    "# ['race a car'],\n",
    "# ['Was it a car or a cat I saw?'],\n",
    "# [\"No 'x' in Nixon\"],\n",
    "# ['No lemon, no melon'],\n",
    "# ['A Santa at NASA'],\n",
    "# ['Palindrome example']\n",
    "# [true, false, true, true, true, true, false]"
   ]
  },
  {
   "cell_type": "code",
   "execution_count": 1,
   "metadata": {},
   "outputs": [
    {
     "name": "stdout",
     "output_type": "stream",
     "text": [
      "kim ho\n",
      "{3, 4, 5, 6, 8, 9}\n"
     ]
    }
   ],
   "source": [
    "import random\n",
    "\n",
    "class RandomSolve:\n",
    "    def __init__(self, myname, yourname):\n",
    "        self.myname = myname\n",
    "        self.yourname = yourname\n",
    "        self.nums = set()\n",
    "\n",
    "    @staticmethod\n",
    "    def __random():\n",
    "        return random.randint(0,9)\n",
    "    \n",
    "    @classmethod\n",
    "    def newnum(cls, dic):\n",
    "        return cls(dic[\"myname\"], dic[\"yourname\"])\n",
    "\n",
    "    def get_six_num(self):\n",
    "        while len(self.nums) < 6:\n",
    "            self.nums.add(self.__random())\n",
    "        return self.nums\n",
    "    \n",
    "res = RandomSolve.newnum({\"myname\": \"kim\", \"yourname\": \"ho\"})\n",
    "print(res.myname, res.yourname)\n",
    "print(res.get_six_num())\n"
   ]
  },
  {
   "cell_type": "code",
   "execution_count": 6,
   "metadata": {},
   "outputs": [
    {
     "name": "stdout",
     "output_type": "stream",
     "text": [
      "1|4|3|2\n"
     ]
    }
   ],
   "source": [
    "new = [\"1\",\"4\",\"3\",\"2\"]\n",
    "new_s = \"|\".join(new)\n",
    "print(new_s)"
   ]
  },
  {
   "cell_type": "code",
   "execution_count": 1,
   "metadata": {},
   "outputs": [
    {
     "name": "stdout",
     "output_type": "stream",
     "text": [
      "(1, 4)\n",
      "(2, 5)\n",
      "(3, 6)\n"
     ]
    }
   ],
   "source": []
  },
  {
   "cell_type": "code",
   "execution_count": null,
   "metadata": {},
   "outputs": [],
   "source": []
  }
 ],
 "metadata": {
  "kernelspec": {
   "display_name": "Python 3",
   "language": "python",
   "name": "python3"
  },
  "language_info": {
   "codemirror_mode": {
    "name": "ipython",
    "version": 3
   },
   "file_extension": ".py",
   "mimetype": "text/x-python",
   "name": "python",
   "nbconvert_exporter": "python",
   "pygments_lexer": "ipython3",
   "version": "3.11.4"
  }
 },
 "nbformat": 4,
 "nbformat_minor": 2
}
